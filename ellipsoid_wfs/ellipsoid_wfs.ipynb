{
 "cells": [
  {
   "cell_type": "code",
   "execution_count": 12,
   "id": "4e43b120",
   "metadata": {},
   "outputs": [
    {
     "data": {
      "text/plain": [
       "2"
      ]
     },
     "execution_count": 12,
     "metadata": {},
     "output_type": "execute_result"
    }
   ],
   "source": [
    "using HomotopyContinuation, HomologyInferenceWithWeakFeatureSize, DynamicPolynomials\n",
    "hwfs = HomologyInferenceWithWeakFeatureSize\n",
    "threshold = 1e-7\n",
    "# Order of bottlenecks\n",
    "k = 2"
   ]
  },
  {
   "cell_type": "code",
   "execution_count": 13,
   "id": "346ea5ce",
   "metadata": {
    "scrolled": true
   },
   "outputs": [
    {
     "data": {
      "text/plain": [
       "4-element Array{Float64,1}:\n",
       " 1.0\n",
       " 1.0\n",
       " 1.0\n",
       " 1.0"
      ]
     },
     "execution_count": 13,
     "metadata": {},
     "output_type": "execute_result"
    }
   ],
   "source": [
    "num_vars = 3\n",
    "@polyvar q[1:num_vars]\n",
    "x = q[1]\n",
    "y = q[2]\n",
    "z = q[3]\n",
    "F = [x^2 + y^2 + z^2/2 - 1]\n",
    "all_points = hwfs.find_points_on_bottleneck_correspondence(F,q,k)\n",
    "singular_points = all_points[\"singular\"]\n",
    "nonsingular_points = all_points[\"nonsingular\"]\n",
    "\n",
    "nondegenerate_nonsingular = [point for point in nonsingular_points if !hwfs.check_if_solution_is_degenerate(point;threshold=threshold)]\n",
    "nondegenerate_singular = [point for point in singular_points if !hwfs.check_if_solution_is_degenerate(point;threshold=threshold)]\n",
    "\n",
    "real_nonsingular = [point for point in nondegenerate_nonsingular if !(abs(imag(hwfs.apply_distance_squared_to_solution(point))) > threshold) ]\n",
    "putative_real_nonsingular_contributors = [point for point in real_nonsingular if real(hwfs.apply_distance_squared_to_solution(point)) > threshold]\n",
    "real_singular = [point for point in nondegenerate_singular if !(abs(imag(hwfs.apply_distance_squared_to_solution(point))) > threshold) ]\n",
    "real_singular_contributors = [point for point in real_singular if real(hwfs.apply_distance_squared_to_solution(point)) > threshold]\n",
    "\n",
    "\n",
    "distance_system_for_filtering,parameters_for_filtering = hwfs.minimum_distance_start_system(F,q)\n",
    "start = randn(ComplexF64,num_vars+length(F))\n",
    "initial_system = subs(distance_system_for_filtering,parameters_for_filtering => start)\n",
    "initial_solution = solutions(solve(initial_system,start_system = :polyhedral,parameters=:conservative))\n",
    "distances_nonsingular = [Inf]\n",
    "if length(putative_real_nonsingular_contributors) > 0\n",
    "    distances_nonsingular = [hwfs.filter_solution_to_bottleneck(solution,length(q),k,distance_system_for_filtering,start,parameters_for_filtering,initial_solution;threshold=threshold) for solution in putative_real_nonsingular_contributors]\n",
    "    distances_nonsingular = [dist for dist in distances_nonsingular if dist!=false]\n",
    "    if length(distances_nonsingular) == 0\n",
    "        distances_nonsingular = [Inf]\n",
    "    end\n",
    "end\n",
    "distances_singular = [Inf]\n",
    "if length(distances_singular) > 0 \n",
    "    distances_singular = [real(sqrt(hwfs.apply_distance_squared_to_solution(point))) for point in real_singular_contributors]\n",
    "end\n"
   ]
  },
  {
   "cell_type": "code",
   "execution_count": 14,
   "id": "d3cb71d4",
   "metadata": {},
   "outputs": [
    {
     "data": {
      "text/plain": [
       "67"
      ]
     },
     "execution_count": 14,
     "metadata": {},
     "output_type": "execute_result"
    }
   ],
   "source": [
    "# This number is the total number of solutions computed on B_k(F)\n",
    "length(singular_points)+length(nonsingular_points)"
   ]
  },
  {
   "cell_type": "code",
   "execution_count": 15,
   "id": "7fc836f1",
   "metadata": {},
   "outputs": [
    {
     "data": {
      "text/plain": [
       "61"
      ]
     },
     "execution_count": 15,
     "metadata": {},
     "output_type": "execute_result"
    }
   ],
   "source": [
    "# This counts the solutions which are contained in \\Gamma_k(F)\n",
    "length(singular_points) - length(nondegenerate_singular) + length(nonsingular_points) - length(nondegenerate_nonsingular)"
   ]
  },
  {
   "cell_type": "code",
   "execution_count": 16,
   "id": "bc97a57d",
   "metadata": {},
   "outputs": [
    {
     "data": {
      "text/plain": [
       "6"
      ]
     },
     "execution_count": 16,
     "metadata": {},
     "output_type": "execute_result"
    }
   ],
   "source": [
    "# This counts the solutions which are not contained in \\Gamma_k(F)\n",
    "length(nondegenerate_singular)+length(nondegenerate_nonsingular)"
   ]
  },
  {
   "cell_type": "code",
   "execution_count": 17,
   "id": "c7feada5",
   "metadata": {},
   "outputs": [
    {
     "data": {
      "text/plain": [
       "4"
      ]
     },
     "execution_count": 17,
     "metadata": {},
     "output_type": "execute_result"
    }
   ],
   "source": [
    "# The number of non-isolated solutions contributing \n",
    "# to the weak feature size\n",
    "length(real_singular_contributors)"
   ]
  },
  {
   "cell_type": "code",
   "execution_count": 18,
   "id": "handy-craps",
   "metadata": {},
   "outputs": [
    {
     "name": "stdout",
     "output_type": "stream",
     "text": [
      "Circumcenters\n",
      "Complex{Float64}[-2.7755575615628914e-16 - 1.6653345369377348e-16im, 2.220446049250313e-16 - 1.1102230246251565e-16im, -6.437450399132673e-20 - 9.9272261418204e-19im]\n",
      "Complex{Float64}[-3.3306690738754696e-16 + 3.3306690738754696e-16im, 3.3306690738754696e-16 + 2.7755575615628914e-16im, 8.300922883092143e-20 + 2.7803856493622413e-19im]\n",
      "Complex{Float64}[-2.7755575615628914e-17 + 3.469446951953614e-18im, -5.551115123125783e-17 + 8.673617379884035e-18im, 1.8634724839594607e-20 + 8.682087709356578e-21im]\n",
      "Complex{Float64}[0.0 + 0.0im, 0.0 + 0.0im, 0.0 + 9.80908925027372e-45im]\n",
      "\n",
      "Multipliers for affine combination\n",
      "0.5 + 1.530842645572697e-17im, 0.5000000000000001 - 1.5309273488674224e-17im\n",
      "0.5 + 2.999089556343301e-17im, 0.5000000000000001 - 3.001207138711437e-17im\n",
      "0.5 + 2.0438905017246267e-18im, 0.5 - 2.0396553369883552e-18im\n",
      "0.5 - 6.637715322642147e-34im, 0.5 + 3.633846094315247e-33im\n",
      "\n",
      "Endpoints\n",
      "Solution 1\n",
      "Complex{Float64}[0.8642009281583206 + 0.7303990216772966im, -1.0663234800341317 + 0.5919512458257457im, -1.1248597539537109e-18 - 8.165397611531455e-19im]\n",
      "Complex{Float64}[-0.864200928158321 - 0.7303990216772969im, 1.066323480034132 - 0.5919512458257458im, 9.961107459710572e-19 - 1.1689054672109345e-18im]\n",
      "Solution 2\n",
      "Complex{Float64}[1.0763053831549287 - 0.5445320234509997im, -0.8118966641563835 - 0.721868649071908im, 2.0328790734103208e-19 + 2.1006417091906648e-19im]\n",
      "Complex{Float64}[-1.0763053831549292 + 0.544532023451im, 0.811896664156384 + 0.7218686490719084im, -3.7269449679189215e-20 + 3.460129589533817e-19im]\n",
      "Solution 3\n",
      "Complex{Float64}[0.4141492345560566 + 0.042214070162154456im, 0.9113892779501411 - 0.01918271946810017im, 2.0328790734103208e-20 - 3.3881317890172014e-21im]\n",
      "Complex{Float64}[-0.4141492345560567 - 0.04221407016215445im, -0.9113892779501412 + 0.01918271946810018im, 1.6940658945086007e-20 + 2.0752307207730358e-20im]\n",
      "Solution 4\n",
      "Complex{Float64}[-0.924441732787433 + 0.007610102249792854im, -0.3818439999931795 - 0.018424005904541407im, -2.2420775429197073e-44 + 5.605193857299268e-45im]\n",
      "Complex{Float64}[0.924441732787433 - 0.007610102249792854im, 0.3818439999931795 + 0.018424005904541407im, 2.2420775429197073e-44 + 1.401298464324817e-44im]\n"
     ]
    }
   ],
   "source": [
    "# We can inspect the points in real_singular_contributors \n",
    "# and observe that they all lie on the component defined by \n",
    "# { ((x,y,0),(-x,-y,0),1/2,1/2) | (x,y,0) \\in V(G) }\n",
    "println(\"Circumcenters\")\n",
    "for point in real_singular_contributors\n",
    "    println(point[\"circumcenter\"])\n",
    "end\n",
    "println(\"\")\n",
    "println(\"Multipliers for affine combination\")\n",
    "for point in real_singular_contributors\n",
    "    println(point[\"multipliers\"][1],\", \",point[\"multipliers\"][2])\n",
    "end\n",
    "println(\"\")\n",
    "println(\"Endpoints\")\n",
    "i = 1\n",
    "for point in real_singular_contributors\n",
    "    println(\"Solution \"*string(i))\n",
    "    println(point[\"endpoints\"][1])\n",
    "    println(point[\"endpoints\"][2])\n",
    "    i += 1\n",
    "end\n",
    "    "
   ]
  },
  {
   "cell_type": "code",
   "execution_count": 19,
   "id": "d17a2d8a",
   "metadata": {},
   "outputs": [
    {
     "name": "stdout",
     "output_type": "stream",
     "text": [
      "1.0\n",
      "1.0\n",
      "1.0\n"
     ]
    }
   ],
   "source": [
    "# All non-degenerate non-singular with real distance\n",
    "println(length(putative_real_nonsingular_contributors)/factorial(k))\n",
    "# Real algebraic bottlenecks of V(F)\n",
    "println(length([point for point in putative_real_nonsingular_contributors if hwfs.check_if_vector_is_real(point[\"circumcenter\"];threshold=threshold)])/factorial(k))\n",
    "# Real algebraic bottlenecks of V(F) \\cap R^3\n",
    "println(length([point for point in putative_real_nonsingular_contributors if hwfs.check_if_solution_has_real_endpoints(point;threshold=threshold)])/factorial(k))"
   ]
  },
  {
   "cell_type": "code",
   "execution_count": 20,
   "id": "b4f6045b",
   "metadata": {},
   "outputs": [
    {
     "data": {
      "text/plain": [
       "1.0"
      ]
     },
     "execution_count": 20,
     "metadata": {},
     "output_type": "execute_result"
    }
   ],
   "source": [
    "# Critical values from non-isolated contributors\n",
    "minimum(distances_singular)"
   ]
  },
  {
   "cell_type": "code",
   "execution_count": 21,
   "id": "6ebba786",
   "metadata": {},
   "outputs": [
    {
     "data": {
      "text/plain": [
       "Inf"
      ]
     },
     "execution_count": 21,
     "metadata": {},
     "output_type": "execute_result"
    }
   ],
   "source": [
    "# Critical values from isolated geometric k-bottlenecks\n",
    "minimum(distances_nonsingular)"
   ]
  },
  {
   "cell_type": "code",
   "execution_count": 22,
   "id": "48753ce5",
   "metadata": {},
   "outputs": [
    {
     "data": {
      "text/plain": [
       "1.0"
      ]
     },
     "execution_count": 22,
     "metadata": {},
     "output_type": "execute_result"
    }
   ],
   "source": [
    "# Example: This function performs all necessary\n",
    "# computations and finds the weak feature size \n",
    "compute_weak_feature_size(F;maximum_bottleneck_order=2)"
   ]
  },
  {
   "cell_type": "code",
   "execution_count": null,
   "id": "every-solomon",
   "metadata": {},
   "outputs": [],
   "source": []
  }
 ],
 "metadata": {
  "@webio": {
   "lastCommId": null,
   "lastKernelId": null
  },
  "kernelspec": {
   "display_name": "Julia 1.4.1",
   "language": "julia",
   "name": "julia-1.4"
  },
  "language_info": {
   "file_extension": ".jl",
   "mimetype": "application/julia",
   "name": "julia",
   "version": "1.4.1"
  }
 },
 "nbformat": 4,
 "nbformat_minor": 5
}
