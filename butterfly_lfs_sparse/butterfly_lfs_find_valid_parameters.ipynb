{
 "cells": [
  {
   "cell_type": "markdown",
   "metadata": {},
   "source": [
    "# Notation and description\n",
    "\n",
    "Our homology inference pipeline for a manifold X using adaptive samples and persistence has the following parameters, which are either \"fixed\" or \"free\"\n",
    "\n",
    "## Fixed: \n",
    "    - R, which is less than the reach of the space X \n",
    "    - delta, how close sample points are to X\n",
    "    - E_lfs, the maximum error between estimated local feature sizes and actual local feature sizes    \n",
    "    \n",
    "## Free: \n",
    "    - lambda, where lambda * R is the initial density of the unsparsified sample\n",
    "    - mu, which is the proportion of the local feature size to use while adaptively subsampling\n",
    "    - a, which is a free variable\n",
    "    \n",
    "For a fixed set of values for the fixed parameters, valid combinations of the free parameters are those which satisfy two inequalities. One of these inequalities is linear in a. The other is a rational polynomial function in a, lambda, and mu. In fact, the second inequality is more easily computed by making a substitution lplusmu = lambda + (1+delta/R) * mu.\n",
    "\n",
    "We fix computed values for the reach and reasonable error values for the fixed error parameters. Then we naively search for valid combinations (a,lplusmu) by constructing a grid of possible parameter values in R^2 and evaluating the inequalities."
   ]
  },
  {
   "cell_type": "code",
   "execution_count": 1,
   "metadata": {},
   "outputs": [
    {
     "data": {
      "text/plain": [
       "upper_bound (generic function with 1 method)"
      ]
     },
     "execution_count": 1,
     "metadata": {},
     "output_type": "execute_result"
    }
   ],
   "source": [
    "# Fixed error parameters\n",
    "E_lfs = 1e-10\n",
    "base_delta = 1e-10\n",
    "\n",
    "\n",
    "# Base functions\n",
    "function beta_prime(lplusmu,delta,R)\n",
    "    delta_R = delta/R\n",
    "    return lplusmu+3*delta_R\n",
    "end\n",
    "\n",
    "function alpha_prime(lplusmu,delta,R)\n",
    "    delta_R = delta/R\n",
    "    return delta_R/beta_prime(lplusmu,delta,R)\n",
    "end\n",
    "\n",
    "function M_k(delta,R,E=E_lfs)\n",
    "    delta_R = delta/R\n",
    "    return E/R + delta_R + 1\n",
    "end\n",
    "\n",
    "function M_k_hat(delta,R,E=E_lfs)\n",
    "    delta_R = delta/R\n",
    "    return E/(R*(1-delta_R)^2) + 1/(1-delta_R)\n",
    "end\n",
    "\n",
    "function a_prime(a,alpha,beta)\n",
    "    return (a-alpha*beta)*(1-beta) - beta\n",
    "end\n",
    "\n",
    "function b_prime(b,alpha,beta)\n",
    "    return (b+alpha*beta)/(1 - 2*(b+alpha*beta))\n",
    "end\n",
    "\n",
    "# Functions for bounds\n",
    "function lower_bound(alpha,beta,a,b)\n",
    "    ap = a_prime(a,alpha,beta)\n",
    "    bp = b_prime(b,alpha,beta)\n",
    "    return (1-ap)^2 + ( (bp-ap) + ( (b*(1+2*bp-ap))/(1-(b+alpha*beta)) ))^2\n",
    "end\n",
    "\n",
    "function upper_bound(alpha,beta,a,b)\n",
    "    ap = a_prime(a,alpha,beta)\n",
    "    bp = b_prime(b,alpha,beta)\n",
    "    return (1 - ( (alpha*beta*(1+2*bp-ap))/(1 - (b+beta)) ) )^2\n",
    "end\n"
   ]
  },
  {
   "cell_type": "code",
   "execution_count": 2,
   "metadata": {},
   "outputs": [
    {
     "data": {
      "text/plain": [
       "construct_grid_points (generic function with 1 method)"
      ]
     },
     "execution_count": 2,
     "metadata": {},
     "output_type": "execute_result"
    }
   ],
   "source": [
    "function construct_grid_points(initial,final,number)\n",
    "    step_size = (final-initial)/(number-1)\n",
    "    return [initial + i*step_size for i in 0:(number-1)]\n",
    "end"
   ]
  },
  {
   "cell_type": "code",
   "execution_count": 3,
   "metadata": {},
   "outputs": [
    {
     "name": "stdout",
     "output_type": "stream",
     "text": [
      "1.0000000019417477 1.0000000019417477"
     ]
    },
    {
     "data": {
      "text/plain": [
       "curried_checker (generic function with 1 method)"
      ]
     },
     "execution_count": 3,
     "metadata": {},
     "output_type": "execute_result"
    }
   ],
   "source": [
    "number_of_points = 500\n",
    "# These bounds cover the range of possible valid values\n",
    "a_points = construct_grid_points(1e-4/4,0.22/4,number_of_points)\n",
    "lambda_plus_mu_points = construct_grid_points(1e-4,5e-2,number_of_points)\n",
    "\n",
    "function assertion_checker(a,lplusmu,delta,R)\n",
    "    MK = M_k(delta,R)\n",
    "    MKH = M_k_hat(delta,R)\n",
    "    b = 4*(MK*MKH)^2*a\n",
    "    if (1/3) - delta/R <= b\n",
    "        return false\n",
    "    end\n",
    "    alphprime = alpha_prime(lplusmu,delta,R)\n",
    "    betaprime = beta_prime(lplusmu,delta,R)\n",
    "    return lower_bound(alphprime,betaprime,a,b) < upper_bound(alphprime,betaprime,a,b)\n",
    "end\n",
    "\n",
    "the_grid = Base.product(a_points,lambda_plus_mu_points)\n",
    "\n",
    "\n",
    "butterfly_R = 0.103\n",
    "print(M_k(base_delta,butterfly_R),\" \",M_k_hat(base_delta,butterfly_R))\n",
    "function curried_checker(a,lplusmu) \n",
    "    return assertion_checker(a,lplusmu,base_delta,butterfly_R)\n",
    "end\n"
   ]
  },
  {
   "cell_type": "code",
   "execution_count": 4,
   "metadata": {},
   "outputs": [
    {
     "data": {
      "text/plain": [
       "9121-element Array{Tuple{Float64,Float64},1}:\n",
       " (0.00013517034068136273, 0.0001)\n",
       " (0.00024534068136272544, 0.0001)\n",
       " (0.0003555110220440882, 0.0001)\n",
       " (0.00046568136272545093, 0.0001)\n",
       " (0.0005758517034068136, 0.0001)\n",
       " (0.0006860220440881764, 0.0001)\n",
       " (0.0007961923847695391, 0.0001)\n",
       " (0.0009063627254509018, 0.0001)\n",
       " (0.0010165330661322646, 0.0001)\n",
       " (0.0011267034068136274, 0.0001)\n",
       " (0.00123687374749499, 0.0001)\n",
       " (0.0013470440881763529, 0.0001)\n",
       " (0.0014572144288577155, 0.0001)\n",
       " ⋮\n",
       " (0.012364078156312627, 0.006500000000000001)\n",
       " (0.01247424849699399, 0.006500000000000001)\n",
       " (0.012584418837675353, 0.006500000000000001)\n",
       " (0.012694589178356714, 0.006500000000000001)\n",
       " (0.012804759519038077, 0.006500000000000001)\n",
       " (0.01291492985971944, 0.006500000000000001)\n",
       " (0.013025100200400803, 0.006500000000000001)\n",
       " (0.013135270541082166, 0.006500000000000001)\n",
       " (0.013245440881763527, 0.006500000000000001)\n",
       " (0.01335561122244489, 0.006500000000000001)\n",
       " (0.013465781563126254, 0.006500000000000001)\n",
       " (0.013575951903807617, 0.006500000000000001)"
      ]
     },
     "execution_count": 4,
     "metadata": {},
     "output_type": "execute_result"
    }
   ],
   "source": [
    "valid_choices = [combination for combination in the_grid if curried_checker(combination[1],combination[2])]\n",
    "\n"
   ]
  },
  {
   "cell_type": "code",
   "execution_count": 5,
   "metadata": {},
   "outputs": [],
   "source": [
    "a_coordinates = [coordinate[1] for coordinate in valid_choices]\n",
    "lambda_plus_mu_coordinates = [coordinate[2] for coordinate in valid_choices]\n",
    "using Plots\n",
    "#display(plot(a_coordinates, lambda_plus_mu_coordinates, seriestype = :scatter))"
   ]
  },
  {
   "cell_type": "code",
   "execution_count": 6,
   "metadata": {},
   "outputs": [
    {
     "data": {
      "text/plain": [
       "(0.011152204408817637, 0.006500000000000001)"
      ]
     },
     "execution_count": 6,
     "metadata": {},
     "output_type": "execute_result"
    }
   ],
   "source": [
    "# Larger lplusmu values are easier for us to work with\n",
    "valid_choices[findmax(lambda_plus_mu_coordinates)[2]]"
   ]
  },
  {
   "cell_type": "code",
   "execution_count": 8,
   "metadata": {},
   "outputs": [
    {
     "data": {
      "text/plain": [
       "0.00459999999553398"
      ]
     },
     "execution_count": 8,
     "metadata": {},
     "output_type": "execute_result"
    }
   ],
   "source": [
    "# We now have a line of solutions lambda + (1+delta/R) * mu = 0.0065\n",
    "# The sample for which we computed lfs approximations has lambda = 0.0019\n",
    "mu = (0.0065 - 0.0019)/(1+(base_delta/butterfly_R))"
   ]
  },
  {
   "cell_type": "code",
   "execution_count": null,
   "metadata": {},
   "outputs": [],
   "source": []
  }
 ],
 "metadata": {
  "kernelspec": {
   "display_name": "Julia 1.4.1",
   "language": "julia",
   "name": "julia-1.4"
  },
  "language_info": {
   "file_extension": ".jl",
   "mimetype": "application/julia",
   "name": "julia",
   "version": "1.4.1"
  }
 },
 "nbformat": 4,
 "nbformat_minor": 4
}
