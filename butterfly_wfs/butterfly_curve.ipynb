{
 "cells": [
  {
   "cell_type": "code",
   "execution_count": 1,
   "id": "4e43b120",
   "metadata": {},
   "outputs": [
    {
     "name": "stderr",
     "output_type": "stream",
     "text": [
      "┌ Info: Precompiling HomologyInferenceWithWeakFeatureSize [c51782a9-cb5d-4337-ba91-dcc67d2ae4c4]\n",
      "└ @ Base loading.jl:1260\n"
     ]
    },
    {
     "data": {
      "text/plain": [
       "\"bots2_\""
      ]
     },
     "execution_count": 1,
     "metadata": {},
     "output_type": "execute_result"
    }
   ],
   "source": [
    "using HomotopyContinuation, HomologyInferenceWithWeakFeatureSize, DynamicPolynomials\n",
    "hwfs = HomologyInferecenWithWeakFeatureSize\n",
    "data_path = escape_string(\"paper_data/\")\n",
    "threshold = 1e-7\n",
    "\n",
    "# Order of bottlenecks, change for other orders\n",
    "k = 2\n",
    "\n",
    "filename_root = \"bots\"*string(k)*\"_\"\n",
    "\n",
    "# Uncomment if you have re-run the corresponding Bertini script\n",
    "# data_path = escape_string(\"paper_data/bertini_inputs/\"*str(k)*\"_bottlenecks/\")\n",
    "# filename_root = \"\""
   ]
  },
  {
   "cell_type": "code",
   "execution_count": 2,
   "id": "346ea5ce",
   "metadata": {
    "scrolled": true
   },
   "outputs": [],
   "source": [
    "num_vars = 2\n",
    "@polyvar q[1:num_vars]\n",
    "x = q[1]\n",
    "y = q[2]\n",
    "F = [x^4 - x^2*y^2 + y^4 - 4*x^2 - 2*y^2 - x - 4*y + 1]\n",
    "singular_points = hwfs.parse_bertini_file(data_path*filename_root*\"singular_solutions\")\n",
    "singular_points = [hwfs.butterfly_bertini_convert_solution_point_to_standard_form(point,num_vars,k) for point in singular_points]\n",
    "nonsingular_points = hwfs.parse_bertini_file(data_path*filename_root*\"nonsingular_solutions\")\n",
    "nonsingular_points = [hwfs.butterfly_bertini_convert_solution_point_to_standard_form(point,num_vars,k) for point in nonsingular_points]\n",
    "\n",
    "nondegenerate_nonsingular = [point for point in nonsingular_points if !hwfs.check_if_solution_is_degenerate(point;threshold=threshold)]\n",
    "nondegenerate_singular = [point for point in singular_points if !hwfs.check_if_solution_is_degenerate(point;threshold=threshold)]\n",
    "\n",
    "real_nonsingular = [point for point in nondegenerate_nonsingular if !(abs(imag(hwfs.apply_distance_squared_to_solution(point))) > threshold) ]\n",
    "putative_real_nonsingular_contributors = [point for point in real_nonsingular if real(hwfs.apply_distance_squared_to_solution(point)) > threshold]\n",
    "real_singular = [point for point in nondegenerate_singular if !(abs(imag(hwfs.apply_distance_squared_to_solution(point))) > threshold) ]\n",
    "real_singular_contributors = [point for point in real_singular if real(hwfs.apply_distance_squared_to_solution(point)) > threshold]\n",
    "\n",
    "\n",
    "distance_system_for_filtering,parameters_for_filtering = hwfs.minimum_distance_start_system(F,q)\n",
    "start = randn(ComplexF64,num_vars+length(F))\n",
    "initial_system = subs(distance_system_for_filtering,parameters_for_filtering => start)\n",
    "initial_solution = solutions(solve(initial_system,start_system = :polyhedral,parameters=:conservative))\n",
    "distances_nonsingular = [Inf]\n",
    "if length(putative_real_nonsingular_contributors) > 0\n",
    "    distances_nonsingular = [hwfs.filter_solution_to_bottleneck(solution,length(q),k,distance_system_for_filtering,start,parameters_for_filtering,initial_solution;threshold=threshold) for solution in putative_real_nonsingular_contributors]\n",
    "    distances_nonsingular = [dist for dist in distances_nonsingular if dist!=false]\n",
    "end\n",
    "distances_singular = [Inf]\n",
    "if length(real_singular_contributors) > 0 \n",
    "    distances_singular = [sqrt(hwfs.apply_distance_squared_to_solution(point)) for point in real_singular_contributors]\n",
    "end\n",
    "\n",
    "\n"
   ]
  },
  {
   "cell_type": "code",
   "execution_count": 3,
   "id": "d3cb71d4",
   "metadata": {},
   "outputs": [
    {
     "data": {
      "text/plain": [
       "452"
      ]
     },
     "execution_count": 3,
     "metadata": {},
     "output_type": "execute_result"
    }
   ],
   "source": [
    "# This number is the total number of solutions computed on B_k(F)\n",
    "length(singular_points)+length(nonsingular_points)"
   ]
  },
  {
   "cell_type": "code",
   "execution_count": 4,
   "id": "7fc836f1",
   "metadata": {},
   "outputs": [
    {
     "data": {
      "text/plain": [
       "260"
      ]
     },
     "execution_count": 4,
     "metadata": {},
     "output_type": "execute_result"
    }
   ],
   "source": [
    "# This counts the solutions which are contained in \\Gamma_k(F)\n",
    "length(singular_points) - length(nondegenerate_singular) + length(nonsingular_points) - length(nondegenerate_nonsingular)"
   ]
  },
  {
   "cell_type": "code",
   "execution_count": 5,
   "id": "bc97a57d",
   "metadata": {},
   "outputs": [
    {
     "data": {
      "text/plain": [
       "192"
      ]
     },
     "execution_count": 5,
     "metadata": {},
     "output_type": "execute_result"
    }
   ],
   "source": [
    "# This counts the solutions which are not contained in \\Gamma_k(F)\n",
    "length(nondegenerate_singular)+length(nondegenerate_nonsingular)"
   ]
  },
  {
   "cell_type": "code",
   "execution_count": 6,
   "id": "c7feada5",
   "metadata": {},
   "outputs": [
    {
     "data": {
      "text/plain": [
       "0"
      ]
     },
     "execution_count": 6,
     "metadata": {},
     "output_type": "execute_result"
    }
   ],
   "source": [
    "# The number of non-isolated solutions contributing \n",
    "# to the weak feature size\n",
    "length(nondegenerate_singular)"
   ]
  },
  {
   "cell_type": "code",
   "execution_count": 7,
   "id": "d17a2d8a",
   "metadata": {},
   "outputs": [
    {
     "name": "stdout",
     "output_type": "stream",
     "text": [
      "96.0\n",
      "26.0\n",
      "22.0\n"
     ]
    }
   ],
   "source": [
    "# All non-degenerate non-singular with real distance\n",
    "println(length(putative_real_nonsingular_contributors)/factorial(k))\n",
    "# Real algebraic bottlenecks of V(F)\n",
    "println(length([point for point in putative_real_nonsingular_contributors if hwfs.check_if_vector_is_real(point[\"circumcenter\"];threshold=threshold)])/factorial(k))\n",
    "# Real algebraic bottlenecks of V(F) \\cap R^3\n",
    "println(length([point for point in putative_real_nonsingular_contributors if hwfs.check_if_solution_has_real_endpoints(point;threshold=threshold)])/factorial(k))"
   ]
  },
  {
   "cell_type": "code",
   "execution_count": 8,
   "id": "b4f6045b",
   "metadata": {},
   "outputs": [
    {
     "data": {
      "text/plain": [
       "Inf"
      ]
     },
     "execution_count": 8,
     "metadata": {},
     "output_type": "execute_result"
    }
   ],
   "source": [
    "# Critical values from non-isolated contributors\n",
    "minimum(distances_singular)"
   ]
  },
  {
   "cell_type": "code",
   "execution_count": 9,
   "id": "6ebba786",
   "metadata": {},
   "outputs": [
    {
     "data": {
      "text/plain": [
       "0.2513222014984109"
      ]
     },
     "execution_count": 9,
     "metadata": {},
     "output_type": "execute_result"
    }
   ],
   "source": [
    "# Critical values from isolated geometric k-bottlenecks\n",
    "minimum(distances_nonsingular)"
   ]
  },
  {
   "cell_type": "code",
   "execution_count": 10,
   "id": "48753ce5",
   "metadata": {},
   "outputs": [
    {
     "name": "stdout",
     "output_type": "stream",
     "text": [
      "\r",
      "\u001b[32mTracking 14336 paths... 100%|████████████████████████████████████████| Time: 0:11:08\u001b[39m\n",
      "\u001b[34m  # paths tracked:                  14336\u001b[39m\n",
      "\u001b[34m  # non-singular solutions (real):  1888 (0)\u001b[39m\n",
      "\u001b[34m  # singular solutions (real):      443 (0)\u001b[39m\n",
      "\u001b[34m  # total solutions (real):         2331 (0)\u001b[39m\n"
     ]
    },
    {
     "data": {
      "text/plain": [
       "0.25132220149841034"
      ]
     },
     "execution_count": 10,
     "metadata": {},
     "output_type": "execute_result"
    }
   ],
   "source": [
    "# Example: This function performs all necessary\n",
    "# computations and finds the weak feature size \n",
    "hwfs.compute_weak_feature_size(F)"
   ]
  },
  {
   "cell_type": "code",
   "execution_count": null,
   "id": "surgical-concrete",
   "metadata": {},
   "outputs": [],
   "source": []
  }
 ],
 "metadata": {
  "@webio": {
   "lastCommId": null,
   "lastKernelId": null
  },
  "kernelspec": {
   "display_name": "Julia 1.4.1",
   "language": "julia",
   "name": "julia-1.4"
  },
  "language_info": {
   "file_extension": ".jl",
   "mimetype": "application/julia",
   "name": "julia",
   "version": "1.4.1"
  }
 },
 "nbformat": 4,
 "nbformat_minor": 5
}
