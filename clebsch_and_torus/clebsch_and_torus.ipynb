{
 "cells": [
  {
   "cell_type": "code",
   "execution_count": 75,
   "id": "4e43b120",
   "metadata": {},
   "outputs": [
    {
     "data": {
      "text/plain": [
       "\"bots2_\""
      ]
     },
     "execution_count": 75,
     "metadata": {},
     "output_type": "execute_result"
    }
   ],
   "source": [
    "using HomotopyContinuation, HomologyInferenceWithWeakFeatureSize, DynamicPolynomials\n",
    "hwfs = HomologyInferenceWithWeakFeatureSize\n",
    "data_path = escape_string(\"paper_data/\")\n",
    "threshold = 1e-7\n",
    "\n",
    "# Order of bottlenecks, change for other orders\n",
    "k = 2\n",
    "\n",
    "filename_root = \"bots\"*string(k)*\"_\"\n",
    "\n",
    "# Uncomment if you have re-run the corresponding Bertini script\n",
    "# data_path = escape_string(\"paper_data/bertini_inputs/\"*str(k)*\"_bottlenecks/\")\n",
    "# filename_root = \"\""
   ]
  },
  {
   "cell_type": "code",
   "execution_count": 76,
   "id": "346ea5ce",
   "metadata": {
    "scrolled": true
   },
   "outputs": [
    {
     "name": "stdout",
     "output_type": "stream",
     "text": [
      "\r",
      "\u001b[32mTracking 48 paths... 100%|████████████████████████████████████████| Time: 0:00:01\u001b[39m\n",
      "\u001b[34m  # paths tracked:                  48\u001b[39m\n",
      "\u001b[34m  # non-singular solutions (real):  40 (0)\u001b[39m\n",
      "\u001b[34m  # singular solutions (real):      3 (0)\u001b[39m\n",
      "\u001b[34m  # total solutions (real):         43 (0)\u001b[39m\n"
     ]
    }
   ],
   "source": [
    "num_vars = 3    \n",
    "@polyvar q[1:num_vars]\n",
    "x = q[1]\n",
    "y = q[2]\n",
    "z = q[3]\n",
    "R = 3/2\n",
    "r = 1\n",
    "F = [(R^2 - r^2 + x^2 + y^2 + z^2)^2 - 4*R^2*(x^2 + y^2),x^3 + y^3 + z^3 + 1 - (x + y + z + 1)^3]\n",
    "singular_points = hwfs.parse_bertini_file(data_path*filename_root*\"singular_solutions\")\n",
    "singular_points = [hwfs.bertini_convert_solution_point_to_standard_form(point,num_vars,k) for point in singular_points]\n",
    "nonsingular_points = hwfs.parse_bertini_file(data_path*filename_root*\"nonsingular_solutions\")\n",
    "nonsingular_points = [hwfs.bertini_convert_solution_point_to_standard_form(point,num_vars,k) for point in nonsingular_points]\n",
    "\n",
    "nondegenerate_nonsingular = [point for point in nonsingular_points if !hwfs.check_if_solution_is_degenerate(point;threshold=threshold)]\n",
    "nondegenerate_singular = [point for point in singular_points if !hwfs.check_if_solution_is_degenerate(point;threshold=threshold)]\n",
    "\n",
    "real_nonsingular = [point for point in nondegenerate_nonsingular if !(abs(imag(hwfs.apply_distance_squared_to_solution(point))) > threshold) ]\n",
    "putative_real_nonsingular_contributors = [point for point in real_nonsingular if real(hwfs.apply_distance_squared_to_solution(point)) > threshold]\n",
    "real_singular = [point for point in nondegenerate_singular if !(abs(imag(hwfs.apply_distance_squared_to_solution(point))) > threshold) ]\n",
    "real_singular_contributors = [point for point in real_singular if real(hwfs.apply_distance_squared_to_solution(point)) > threshold]\n",
    "\n",
    "\n",
    "distance_system_for_filtering,parameters_for_filtering = hwfs.minimum_distance_start_system(F,q)\n",
    "start = randn(ComplexF64,num_vars+length(F))\n",
    "initial_system = subs(distance_system_for_filtering,parameters_for_filtering => start)\n",
    "initial_solution = solutions(solve(initial_system,start_system = :polyhedral,parameters=:conservative))\n",
    "distances_nonsingular = [Inf]\n",
    "if length(putative_real_nonsingular_contributors) > 0\n",
    "    distances_nonsingular = [hwfs.filter_solution_to_bottleneck(solution,length(q),k,distance_system_for_filtering,start,parameters_for_filtering,initial_solution;threshold=threshold) for solution in putative_real_nonsingular_contributors]\n",
    "    distances_nonsingular = [dist for dist in distances_nonsingular if dist!=false]\n",
    "end\n",
    "distances_singular = [Inf]\n",
    "if length(real_singular_contributors) > 0 \n",
    "    distances_singular = [sqrt(hwfs.apply_distance_squared_to_solution(point)) for point in real_singular_contributors]\n",
    "end\n"
   ]
  },
  {
   "cell_type": "code",
   "execution_count": 77,
   "id": "d3cb71d4",
   "metadata": {},
   "outputs": [
    {
     "data": {
      "text/plain": [
       "2736"
      ]
     },
     "execution_count": 77,
     "metadata": {},
     "output_type": "execute_result"
    }
   ],
   "source": [
    "# This number is the total number of solutions computed on B_k(F)\n",
    "length(singular_points)+length(nonsingular_points)"
   ]
  },
  {
   "cell_type": "code",
   "execution_count": 78,
   "id": "7fc836f1",
   "metadata": {},
   "outputs": [
    {
     "data": {
      "text/plain": [
       "576"
      ]
     },
     "execution_count": 78,
     "metadata": {},
     "output_type": "execute_result"
    }
   ],
   "source": [
    "# This counts the solutions which are contained in \\Gamma_k(F)\n",
    "length(singular_points) - length(nondegenerate_singular) + length(nonsingular_points) - length(nondegenerate_nonsingular)"
   ]
  },
  {
   "cell_type": "code",
   "execution_count": 79,
   "id": "bc97a57d",
   "metadata": {},
   "outputs": [
    {
     "data": {
      "text/plain": [
       "2160"
      ]
     },
     "execution_count": 79,
     "metadata": {},
     "output_type": "execute_result"
    }
   ],
   "source": [
    "# This counts the solutions which are not contained in \\Gamma_k(F)\n",
    "length(nondegenerate_singular)+length(nondegenerate_nonsingular)"
   ]
  },
  {
   "cell_type": "code",
   "execution_count": 80,
   "id": "burning-genome",
   "metadata": {},
   "outputs": [
    {
     "data": {
      "text/plain": [
       "0"
      ]
     },
     "execution_count": 80,
     "metadata": {},
     "output_type": "execute_result"
    }
   ],
   "source": [
    "# The number of non-isolated solutions contributing \n",
    "# to the weak feature size\n",
    "length(nondegenerate_singular)"
   ]
  },
  {
   "cell_type": "code",
   "execution_count": 81,
   "id": "d17a2d8a",
   "metadata": {},
   "outputs": [
    {
     "name": "stdout",
     "output_type": "stream",
     "text": [
      "1080.0\n",
      "1080.0\n",
      "68.0\n",
      "50.0\n"
     ]
    }
   ],
   "source": [
    "# Computed algebraic k-bottlenecks\n",
    "println(length(nondegenerate_nonsingular)/factorial(k))\n",
    "# All non-degenerate non-singular with real distance\n",
    "println(length(putative_real_nonsingular_contributors)/factorial(k))\n",
    "# Real algebraic bottlenecks of V(F)\n",
    "println(length([point for point in putative_real_nonsingular_contributors if hwfs.check_if_vector_is_real(point[\"circumcenter\"];threshold=threshold)])/factorial(k))\n",
    "# Real algebraic bottlenecks of V(F) \\cap R^3\n",
    "println(length([point for point in putative_real_nonsingular_contributors if hwfs.check_if_solution_has_real_endpoints(point;threshold=threshold)])/factorial(k))"
   ]
  },
  {
   "cell_type": "code",
   "execution_count": 71,
   "id": "b4f6045b",
   "metadata": {},
   "outputs": [
    {
     "data": {
      "text/plain": [
       "Inf"
      ]
     },
     "execution_count": 71,
     "metadata": {},
     "output_type": "execute_result"
    }
   ],
   "source": [
    "# Critical values from non-isolated contributors\n",
    "minimum(distances_singular)"
   ]
  },
  {
   "cell_type": "code",
   "execution_count": 72,
   "id": "6ebba786",
   "metadata": {},
   "outputs": [
    {
     "data": {
      "text/plain": [
       "0.7720770556102096"
      ]
     },
     "execution_count": 72,
     "metadata": {},
     "output_type": "execute_result"
    }
   ],
   "source": [
    "# Critical values from isolated geometric k-bottlenecks\n",
    "minimum(distances_nonsingular)"
   ]
  },
  {
   "cell_type": "code",
   "execution_count": 82,
   "id": "center-walnut",
   "metadata": {},
   "outputs": [
    {
     "data": {
      "text/plain": [
       "22.0"
      ]
     },
     "execution_count": 82,
     "metadata": {},
     "output_type": "execute_result"
    }
   ],
   "source": [
    "length(distances_nonsingular)/factorial(k)"
   ]
  },
  {
   "cell_type": "code",
   "execution_count": null,
   "id": "silver-quarterly",
   "metadata": {},
   "outputs": [],
   "source": []
  }
 ],
 "metadata": {
  "@webio": {
   "lastCommId": null,
   "lastKernelId": null
  },
  "kernelspec": {
   "display_name": "Julia 1.4.1",
   "language": "julia",
   "name": "julia-1.4"
  },
  "language_info": {
   "file_extension": ".jl",
   "mimetype": "application/julia",
   "name": "julia",
   "version": "1.4.1"
  }
 },
 "nbformat": 4,
 "nbformat_minor": 5
}
