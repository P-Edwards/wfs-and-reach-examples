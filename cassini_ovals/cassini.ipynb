{
 "cells": [
  {
   "cell_type": "code",
   "execution_count": 1,
   "id": "4e43b120",
   "metadata": {},
   "outputs": [
    {
     "data": {
      "text/plain": [
       "3"
      ]
     },
     "execution_count": 1,
     "metadata": {},
     "output_type": "execute_result"
    }
   ],
   "source": [
    "using HomotopyContinuation, HomologyInferenceWithWeakFeatureSize, DynamicPolynomials\n",
    "hwfs = HomologyInferenceWithWeakFeatureSize\n",
    "threshold = 1e-7\n",
    "oval_number = 3"
   ]
  },
  {
   "cell_type": "code",
   "execution_count": 2,
   "id": "346ea5ce",
   "metadata": {
    "scrolled": true
   },
   "outputs": [
    {
     "name": "stdout",
     "output_type": "stream",
     "text": [
      "\r",
      "\u001b[32mTracking 116640 paths... 100%|████████████████████████████████████████| Time: 1:38:48\u001b[39m\n",
      "\u001b[34m  # paths tracked:                  116640\u001b[39m\n",
      "\u001b[34m  # non-singular solutions (real):  799 (0)\u001b[39m\n",
      "\u001b[34m  # singular solutions (real):      392 (0)\u001b[39m\n",
      "\u001b[34m  # total solutions (real):         1191 (0)\u001b[39m\n"
     ]
    },
    {
     "data": {
      "text/plain": [
       "0.7454321246472561"
      ]
     },
     "execution_count": 2,
     "metadata": {},
     "output_type": "execute_result"
    }
   ],
   "source": [
    "num_vars = 2\n",
    "@polyvar q[1:num_vars]\n",
    "x = q[1]\n",
    "y = q[2]\n",
    "F = [hwfs.cassini_oval(oval_number,2^(1/(2*oval_number)),q)]\n",
    "b = compute_weak_feature_size(F;threshold=threshold)\n",
    "\n",
    "\n"
   ]
  },
  {
   "cell_type": "code",
   "execution_count": null,
   "id": "expressed-advisory",
   "metadata": {},
   "outputs": [],
   "source": []
  }
 ],
 "metadata": {
  "@webio": {
   "lastCommId": null,
   "lastKernelId": null
  },
  "kernelspec": {
   "display_name": "Julia 1.4.1",
   "language": "julia",
   "name": "julia-1.4"
  },
  "language_info": {
   "file_extension": ".jl",
   "mimetype": "application/julia",
   "name": "julia",
   "version": "1.4.1"
  }
 },
 "nbformat": 4,
 "nbformat_minor": 5
}
