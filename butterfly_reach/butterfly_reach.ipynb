{
 "cells": [
  {
   "cell_type": "code",
   "execution_count": 1,
   "id": "4e43b120",
   "metadata": {},
   "outputs": [
    {
     "data": {
      "text/plain": [
       "\"\""
      ]
     },
     "execution_count": 1,
     "metadata": {},
     "output_type": "execute_result"
    }
   ],
   "source": [
    "using HomotopyContinuation, HomologyInferenceWithWeakFeatureSize, DynamicPolynomials\n",
    "hwfs = HomologyInferenceWithWeakFeatureSize\n",
    "data_path = escape_string(\"paper_data/\")\n",
    "threshold = 1e-7\n",
    "conversion_function = hwfs.reach_bertini_convert_solution_point_to_standard_form\n",
    "\n",
    "# Order of bottlenecks, change for other orders\n",
    "k = 2\n",
    "\n",
    "filename_root = \"\"\n",
    "\n",
    "# Uncomment if you have re-run the corresponding Bertini script\n",
    "# data_path = escape_string(\"paper_data/bertini_inputs/\")\n",
    "# filename_root = \"\""
   ]
  },
  {
   "cell_type": "code",
   "execution_count": 2,
   "id": "346ea5ce",
   "metadata": {
    "scrolled": true
   },
   "outputs": [],
   "source": [
    "num_vars = 2\n",
    "@polyvar q[1:num_vars]\n",
    "x = q[1]\n",
    "y = q[2]\n",
    "F = [x^4 - x^2*y^2 + y^4 - 4*x^2 - 2*y^2 - x - 4*y + 1]\n",
    "singular_points = hwfs.parse_bertini_file(data_path*filename_root*\"singular_solutions\")\n",
    "singular_points = [conversion_function(point,num_vars,k) for point in singular_points]\n",
    "nonsingular_points = hwfs.parse_bertini_file(data_path*filename_root*\"nonsingular_solutions\")\n",
    "nonsingular_points = [conversion_function(point,num_vars,k) for point in nonsingular_points]\n",
    "\n",
    "distance_system_for_filtering,parameters_for_filtering = hwfs.minimum_distance_start_system(F,q)\n",
    "start = randn(ComplexF64,num_vars+length(F))\n",
    "initial_system = subs(distance_system_for_filtering,parameters_for_filtering => start)\n",
    "initial_solution = solutions(solve(initial_system,start_system = :polyhedral,parameters=:conservative))\n",
    "\n",
    "function check_if_solution_has_real_circumcenter(point)\n",
    "    for coordinate in point[\"circumcenter\"]\n",
    "        if abs(imag(coordinate)) >= threshold\n",
    "            return false\n",
    "        end\n",
    "    end\n",
    "    return true\n",
    "end\n",
    "\n",
    "filtered_nonsingular_points = [point for point in nonsingular_points if hwfs.check_if_solution_has_real_endpoints(point;threshold=threshold)]\n",
    "\n",
    "nondegenerate_points = [singular_points;filtered_nonsingular_points]\n",
    "nondegenerate_points = [point for point in nondegenerate_points if check_if_solution_has_real_circumcenter(point)]\n",
    "real_positive_D_value_points = [point for point in nondegenerate_points if hwfs.real_and_positive_d_value_check(point;threshold=threshold)]\n",
    "can_be_distance_filtered = [point for point in real_positive_D_value_points if hwfs.check_if_solution_has_real_endpoints(point;threshold=threshold)]\n",
    "cannot_be_distance_filtered = [point for point in real_positive_D_value_points if !hwfs.check_if_solution_has_real_endpoints(point;threshold=threshold)]\n",
    "\n",
    "distances_isolated = [Inf]\n",
    "if length(can_be_distance_filtered) > 0\n",
    "    distances_isolated = [hwfs.filter_solution_to_bottleneck(solution,length(q),k,distance_system_for_filtering,start,parameters_for_filtering,initial_solution;threshold=threshold,reach=true) for solution in can_be_distance_filtered]\n",
    "    distances_isolated = [dist for dist in distances_isolated if dist!=false]\n",
    "    if length(distances_isolated) == 0\n",
    "        distances_isolated = [Inf]\n",
    "    end\n",
    "end\n",
    "distances_not_isolated = [Inf]\n",
    "if length(cannot_be_distance_filtered) > 0 \n",
    "    distances_not_isolated = [real(sqrt(hwfs.apply_distance_squared_to_solution(point))) for point in cannot_be_distance_filtered]\n",
    "end\n",
    "\n",
    "\n"
   ]
  },
  {
   "cell_type": "code",
   "execution_count": 3,
   "id": "b4f6045b",
   "metadata": {},
   "outputs": [
    {
     "data": {
      "text/plain": [
       "0.10362272960376587"
      ]
     },
     "execution_count": 3,
     "metadata": {},
     "output_type": "execute_result"
    }
   ],
   "source": [
    "# Critical values from non-isolated contributors\n",
    "minimum(distances_isolated)"
   ]
  },
  {
   "cell_type": "code",
   "execution_count": 4,
   "id": "6ebba786",
   "metadata": {},
   "outputs": [
    {
     "data": {
      "text/plain": [
       "Inf"
      ]
     },
     "execution_count": 4,
     "metadata": {},
     "output_type": "execute_result"
    }
   ],
   "source": [
    "# Critical values from isolated geometric k-bottlenecks\n",
    "minimum(distances_not_isolated)"
   ]
  },
  {
   "cell_type": "code",
   "execution_count": null,
   "id": "opened-colleague",
   "metadata": {},
   "outputs": [],
   "source": []
  }
 ],
 "metadata": {
  "@webio": {
   "lastCommId": null,
   "lastKernelId": null
  },
  "kernelspec": {
   "display_name": "Julia 1.4.1",
   "language": "julia",
   "name": "julia-1.4"
  },
  "language_info": {
   "file_extension": ".jl",
   "mimetype": "application/julia",
   "name": "julia",
   "version": "1.4.1"
  }
 },
 "nbformat": 4,
 "nbformat_minor": 5
}
