{
 "cells": [
  {
   "cell_type": "code",
   "execution_count": 12,
   "id": "4e43b120",
   "metadata": {},
   "outputs": [
    {
     "data": {
      "text/plain": [
       "\"bots3_\""
      ]
     },
     "execution_count": 12,
     "metadata": {},
     "output_type": "execute_result"
    }
   ],
   "source": [
    "using HomotopyContinuation, HomologyInferenceWithWeakFeatureSize, DynamicPolynomials\n",
    "hwfs = HomologyInferenceWithWeakFeatureSize\n",
    "data_path = escape_string(\"paper_data/\")\n",
    "threshold = 1e-7\n",
    "\n",
    "# Order of bottlenecks, change for other orders\n",
    "k = 3\n",
    "\n",
    "filename_root = \"bots\"*string(k)*\"_\"\n",
    "\n",
    "# Uncomment if you have re-run the corresponding Bertini script\n",
    "# data_path = escape_string(\"paper_data/bertini_inputs/\"*str(k)*\"_bottlenecks/\")\n",
    "# filename_root = \"\""
   ]
  },
  {
   "cell_type": "code",
   "execution_count": 13,
   "id": "346ea5ce",
   "metadata": {
    "scrolled": true
   },
   "outputs": [],
   "source": [
    "num_vars = 3\n",
    "@polyvar q[1:num_vars]\n",
    "x = q[1]\n",
    "y = q[2]\n",
    "z = q[3]\n",
    "F = [-3 + 3*z^4 + 4*y + 8*y^2 - 6*y^3 + 7*y^4 + 8*x - 5*x*y - 8*x*y^2 - 4*x^2 + 2*x^2*y - 8*x^3 + 4*x^4]\n",
    "singular_points = hwfs.parse_bertini_file(data_path*filename_root*\"singular_solutions\")\n",
    "singular_points = [hwfs.quartic_bertini_convert_solution_point_to_standard_form(point,num_vars,k) for point in singular_points]\n",
    "nonsingular_points = hwfs.parse_bertini_file(data_path*filename_root*\"nonsingular_solutions\")\n",
    "nonsingular_points = [hwfs.quartic_bertini_convert_solution_point_to_standard_form(point,num_vars,k) for point in nonsingular_points]\n",
    "\n",
    "filtered_nonsingular_points = [point for point in nonsingular_points if hwfs.check_if_solution_has_real_endpoints(point;threshold=threshold)]\n",
    "# This filters out some complex, isolated, and singular contributors\n",
    "function check_if_solution_has_third_coordinate_zero(point)\n",
    "    if hwfs.check_if_solution_has_real_endpoints(point;threshold=threshold)\n",
    "        return false\n",
    "    end\n",
    "    for endpoint in point[\"endpoints\"]\n",
    "        if real(abs(endpoint[3])) <= threshold\n",
    "            return true\n",
    "        end\n",
    "    end\n",
    "    return false\n",
    "end\n",
    "filtered_singular_points = [point for point in singular_points if !check_if_solution_has_third_coordinate_zero(point)]\n",
    "\n",
    "\n",
    "all_points = [filtered_singular_points;filtered_nonsingular_points]\n",
    "nondegenerate_points = [point for point in all_points if !hwfs.check_if_solution_is_degenerate(point;threshold=threshold)]\n",
    "real_positive_D_value_points = [point for point in nondegenerate_points if hwfs.real_and_positive_d_value_check(point;threshold=threshold)]\n",
    "can_be_distance_filtered = [point for point in real_positive_D_value_points if hwfs.check_if_solution_has_real_endpoints(point;threshold=threshold)]\n",
    "cannot_be_distance_filtered = [point for point in real_positive_D_value_points if !hwfs.check_if_solution_has_real_endpoints(point;threshold=threshold)]\n",
    "\n",
    "distance_system_for_filtering,parameters_for_filtering = hwfs.minimum_distance_start_system(F,q)\n",
    "start = randn(ComplexF64,num_vars+length(F))\n",
    "initial_system = subs(distance_system_for_filtering,parameters_for_filtering => start)\n",
    "initial_solution = solutions(solve(initial_system,start_system = :polyhedral,parameters=:conservative))\n",
    "distances_isolated = [Inf]\n",
    "if length(can_be_distance_filtered) > 0\n",
    "    distances_isolated = [hwfs.filter_solution_to_bottleneck(solution,length(q),k,distance_system_for_filtering,start,parameters_for_filtering,initial_solution;threshold=threshold) for solution in can_be_distance_filtered]\n",
    "    distances_isolated = [dist for dist in distances_isolated if dist!=false]\n",
    "    if length(distances_isolated) == 0\n",
    "        distances_isolated = [Inf]\n",
    "    end\n",
    "end\n",
    "distances_not_isolated = [Inf]\n",
    "if length(cannot_be_distance_filtered) > 0 \n",
    "    distances_not_isolated = [real(sqrt(hwfs.apply_distance_squared_to_solution(point))) for point in cannot_be_distance_filtered]\n",
    "end\n",
    "\n",
    "\n"
   ]
  },
  {
   "cell_type": "code",
   "execution_count": 14,
   "id": "d3cb71d4",
   "metadata": {},
   "outputs": [
    {
     "data": {
      "text/plain": [
       "40672"
      ]
     },
     "execution_count": 14,
     "metadata": {},
     "output_type": "execute_result"
    }
   ],
   "source": [
    "# This number is the total number of solutions computed on B_k(F)\n",
    "length(singular_points)+length(nonsingular_points)"
   ]
  },
  {
   "cell_type": "code",
   "execution_count": 15,
   "id": "7fc836f1",
   "metadata": {},
   "outputs": [
    {
     "data": {
      "text/plain": [
       "8191"
      ]
     },
     "execution_count": 15,
     "metadata": {},
     "output_type": "execute_result"
    }
   ],
   "source": [
    "# This counts the solutions which are contained in \\Gamma_k(F)\n",
    "length(singular_points)+length(nonsingular_points)-length([point for point in [singular_points;nonsingular_points] if !hwfs.check_if_solution_is_degenerate(point;threshold=threshold)])"
   ]
  },
  {
   "cell_type": "code",
   "execution_count": 16,
   "id": "c7feada5",
   "metadata": {},
   "outputs": [
    {
     "data": {
      "text/plain": [
       "0"
      ]
     },
     "execution_count": 16,
     "metadata": {},
     "output_type": "execute_result"
    }
   ],
   "source": [
    "# The number of non-isolated solutions contributing \n",
    "# to the weak feature size\n",
    "length(cannot_be_distance_filtered)"
   ]
  },
  {
   "cell_type": "code",
   "execution_count": 23,
   "id": "d17a2d8a",
   "metadata": {},
   "outputs": [
    {
     "name": "stdout",
     "output_type": "stream",
     "text": [
      "[[1.3196191723703588, 0.027546060015504192, -3.4109849049807754e-15], [1.3196191723703943, 0.02754606001550222, -3.032214242335742e-15], [1.3196191723703812, 0.02754606001549534, -1.960025016786294e-15], [-0.43908836090446646, -0.10204060426368403, -1.876643012704299e-15], [-0.439088360904469, -0.10204060426369221, -2.4676735259138988e-15]]\n"
     ]
    }
   ],
   "source": [
    "# Real geometric bottlenecks: There is 1 geometric bottleneck of multiplicity \n",
    "# 3 when k = 2\n",
    "println([real(point[\"circumcenter\"]) for point in can_be_distance_filtered if hwfs.filter_solution_to_bottleneck(point,length(q),k,distance_system_for_filtering,start,parameters_for_filtering,initial_solution;threshold=threshold)!=false])"
   ]
  },
  {
   "cell_type": "code",
   "execution_count": 24,
   "id": "6ebba786",
   "metadata": {},
   "outputs": [
    {
     "data": {
      "text/plain": [
       "0.6352420284771654"
      ]
     },
     "execution_count": 24,
     "metadata": {},
     "output_type": "execute_result"
    }
   ],
   "source": [
    "# Critical values from isolated geometric k-bottlenecks\n",
    "minimum(distances_isolated)"
   ]
  },
  {
   "cell_type": "code",
   "execution_count": null,
   "id": "beneficial-purple",
   "metadata": {},
   "outputs": [],
   "source": []
  }
 ],
 "metadata": {
  "@webio": {
   "lastCommId": null,
   "lastKernelId": null
  },
  "kernelspec": {
   "display_name": "Julia 1.4.1",
   "language": "julia",
   "name": "julia-1.4"
  },
  "language_info": {
   "file_extension": ".jl",
   "mimetype": "application/julia",
   "name": "julia",
   "version": "1.4.1"
  }
 },
 "nbformat": 4,
 "nbformat_minor": 5
}
